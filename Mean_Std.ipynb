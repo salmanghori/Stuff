{
  "nbformat": 4,
  "nbformat_minor": 0,
  "metadata": {
    "colab": {
      "provenance": [],
      "collapsed_sections": [],
      "authorship_tag": "ABX9TyPjeujv2nnfegnT8lVnOZW2",
      "include_colab_link": true
    },
    "kernelspec": {
      "name": "python3",
      "display_name": "Python 3"
    },
    "language_info": {
      "name": "python"
    }
  },
  "cells": [
    {
      "cell_type": "markdown",
      "metadata": {
        "id": "view-in-github",
        "colab_type": "text"
      },
      "source": [
        "<a href=\"https://colab.research.google.com/github/salmanghori/Stuff/blob/main/Mean_Std.ipynb\" target=\"_parent\"><img src=\"https://colab.research.google.com/assets/colab-badge.svg\" alt=\"Open In Colab\"/></a>"
      ]
    },
    {
      "cell_type": "code",
      "execution_count": 7,
      "metadata": {
        "id": "g14pgKcprB2N"
      },
      "outputs": [],
      "source": [
        "import numpy as np\n",
        "import matplotlib.pyplot as plt\n",
        "from google.colab import files"
      ]
    },
    {
      "cell_type": "code",
      "source": [
        "float_1  = np.array([51200, 32000, 30700, 27400, 31100, 31600, 30400, 27900, 35100, 27700, 28900, 30700, 30900, 30800, 32000, 31300, 28900, 29500, 32800, 25600, 31100, 30500, 27500, 31800, 31800, 32800, 44800, 32700, 30200, 29700, 30000, 34900, 27900, 32200, 31500, 29300, 31500, 33100, 29600, 29400])\n",
        "double_1 = np.array([47100, 30700, 29800, 31100, 32500, 28700, 30200, 31400, 31900, 29800, 31200, 30400, 27400, 33700, 31800, 27500, 29400, 26400, 30500, 34100, 30700, 29000, 32100, 29100, 29400, 36200, 31500, 28600, 29700, 61800, 32300, 32500, 28700, 33800, 31600, 31000, 29100, 31000, 29800, 29700])\n",
        "long_1   = np.array([48300, 29700, 32500, 30700, 30200, 29100, 28900, 31100, 26200, 31700, 32300, 30300, 29600, 28700, 31000, 29800, 30700, 29800, 28100, 31700, 30100, 32800, 30700, 51000, 29300, 28500, 32100, 61800, 31900, 30500, 31400, 52000, 33200, 32000, 31700, 30400, 29800, 30000, 30100, 29600])\n",
        "int_1    = np.array([37500, 30800, 28900, 25100, 28200, 30100, 31500, 28700, 32000, 33600, 31700, 36300, 31600, 30200, 31900, 33100, 31200, 30200, 28600, 34300, 31100, 28900, 30400, 28400, 28300, 32200, 38800, 30800, 28800, 29800, 28800, 30800, 32000, 28700, 30700, 33400, 34500, 29800, 32800, 30200])\n",
        "\n"
      ],
      "metadata": {
        "id": "xyxxERyFrMT5"
      },
      "execution_count": 8,
      "outputs": []
    },
    {
      "cell_type": "code",
      "source": [
        "float_mean = np.mean(float_1)\n",
        "double_mean = np.mean(double_1)\n",
        "long_mean = np.mean(long_1)\n",
        "int_mean = np.mean(int_1)\n",
        "\n",
        "# Calculate the standard deviation\n",
        "float_std = np.std(float_1)\n",
        "double_std = np.std(double_1)\n",
        "long_std = np.std(long_1)\n",
        "int_std = np.std(int_1)"
      ],
      "metadata": {
        "id": "6mHyoqB9s4MJ"
      },
      "execution_count": 9,
      "outputs": []
    },
    {
      "cell_type": "code",
      "source": [
        "print(float_mean, double_mean, long_mean, int_mean )\n",
        "print(float_std, double_std, long_std, int_std )"
      ],
      "metadata": {
        "colab": {
          "base_uri": "https://localhost:8080/"
        },
        "id": "POC3nwnGwDWV",
        "outputId": "d71284be-2ecf-4413-ee50-d5ed485a5707"
      },
      "execution_count": 10,
      "outputs": [
        {
          "output_type": "stream",
          "name": "stdout",
          "text": [
            "31470.0 31830.0 32732.5 31117.5\n",
            "4325.11271529425 5766.116544087537 7165.904949830133 2631.8137757067843\n"
          ]
        }
      ]
    },
    {
      "cell_type": "code",
      "source": [
        "labels = ['Float', 'Double', 'Long_Long', 'Int']\n",
        "x_pos = np.arange(len(labels))\n",
        "CTEs = [float_mean, double_mean, long_mean, int_mean]\n",
        "error = [float_std, double_std, long_std, int_std]"
      ],
      "metadata": {
        "id": "GTG_JeyUtjR_"
      },
      "execution_count": 11,
      "outputs": []
    },
    {
      "cell_type": "code",
      "source": [
        "fig, ax = plt.subplots()\n",
        "ax.bar(x_pos, CTEs,\n",
        "       yerr=error,\n",
        "       align='center',\n",
        "       ecolor='black',\n",
        "       capsize=10)\n",
        "ax.set_ylabel('Execution of Multiplication of two number (nano sec) ')\n",
        "ax.set_xticks(x_pos)\n",
        "ax.set_xticklabels(labels)\n",
        "ax.set_title('Different Data type execution (C++)')\n",
        "ax.yaxis.grid(True)\n",
        "\n",
        "# Save the figure and show\n",
        "plt.tight_layout()\n",
        "plt.savefig('bar_plot_with_error_bars.png', dpi=300)\n",
        "files.download(\"bar_plot_with_error_bars.png\") \n",
        "plt.show()"
      ],
      "metadata": {
        "colab": {
          "base_uri": "https://localhost:8080/",
          "height": 298
        },
        "id": "71h7ealmuUFW",
        "outputId": "bb84b218-0dbb-4e6c-e39e-360ed0e49945"
      },
      "execution_count": 12,
      "outputs": [
        {
          "output_type": "display_data",
          "data": {
            "text/plain": [
              "<IPython.core.display.Javascript object>"
            ],
            "application/javascript": [
              "\n",
              "    async function download(id, filename, size) {\n",
              "      if (!google.colab.kernel.accessAllowed) {\n",
              "        return;\n",
              "      }\n",
              "      const div = document.createElement('div');\n",
              "      const label = document.createElement('label');\n",
              "      label.textContent = `Downloading \"${filename}\": `;\n",
              "      div.appendChild(label);\n",
              "      const progress = document.createElement('progress');\n",
              "      progress.max = size;\n",
              "      div.appendChild(progress);\n",
              "      document.body.appendChild(div);\n",
              "\n",
              "      const buffers = [];\n",
              "      let downloaded = 0;\n",
              "\n",
              "      const channel = await google.colab.kernel.comms.open(id);\n",
              "      // Send a message to notify the kernel that we're ready.\n",
              "      channel.send({})\n",
              "\n",
              "      for await (const message of channel.messages) {\n",
              "        // Send a message to notify the kernel that we're ready.\n",
              "        channel.send({})\n",
              "        if (message.buffers) {\n",
              "          for (const buffer of message.buffers) {\n",
              "            buffers.push(buffer);\n",
              "            downloaded += buffer.byteLength;\n",
              "            progress.value = downloaded;\n",
              "          }\n",
              "        }\n",
              "      }\n",
              "      const blob = new Blob(buffers, {type: 'application/binary'});\n",
              "      const a = document.createElement('a');\n",
              "      a.href = window.URL.createObjectURL(blob);\n",
              "      a.download = filename;\n",
              "      div.appendChild(a);\n",
              "      a.click();\n",
              "      div.remove();\n",
              "    }\n",
              "  "
            ]
          },
          "metadata": {}
        },
        {
          "output_type": "display_data",
          "data": {
            "text/plain": [
              "<IPython.core.display.Javascript object>"
            ],
            "application/javascript": [
              "download(\"download_f8b95bf0-b577-45b3-a1ad-b4b023caf22e\", \"bar_plot_with_error_bars.png\", 94182)"
            ]
          },
          "metadata": {}
        },
        {
          "output_type": "display_data",
          "data": {
            "text/plain": [
              "<Figure size 432x288 with 1 Axes>"
            ],
            "image/png": "[encoded data removed]"
          },
          "metadata": {
            "needs_background": "light"
          }
        }
      ]
    },
    {
      "cell_type": "markdown",
      "source": [
        "In general, a low standard deviation means that the data is very closely related to the average, thus very reliable and a high standard deviation means that there is a large variance between the data and the statistical average, thus not as reliable."
      ],
      "metadata": {
        "id": "ZlhIPzZhxvHq"
      }
    }
  ]
}